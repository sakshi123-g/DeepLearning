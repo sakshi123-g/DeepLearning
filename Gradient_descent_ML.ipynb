{
  "nbformat": 4,
  "nbformat_minor": 0,
  "metadata": {
    "colab": {
      "provenance": []
    },
    "kernelspec": {
      "name": "python3",
      "display_name": "Python 3"
    },
    "language_info": {
      "name": "python"
    }
  },
  "cells": [
    {
      "cell_type": "markdown",
      "source": [
        "**Gradient Descent using ML**\n"
      ],
      "metadata": {
        "id": "2MDfAQPrUCbP"
      }
    },
    {
      "cell_type": "code",
      "execution_count": 1,
      "metadata": {
        "id": "d6SMtnBsT6CS"
      },
      "outputs": [],
      "source": [
        "import numpy as np\n",
        "\n",
        "\n",
        "x = np.array([1, 2, 3, 4, 5], dtype=float)\n",
        "y = np.array([2, 4, 6, 8, 10], dtype=float)"
      ]
    },
    {
      "cell_type": "code",
      "source": [
        "w = 0.0  # weight\n",
        "b = 0.0  # bias\n",
        "\n",
        "learning_rate = 0.01\n",
        "epochs = 1000"
      ],
      "metadata": {
        "id": "0cktWWoGUM1e"
      },
      "execution_count": 2,
      "outputs": []
    },
    {
      "cell_type": "code",
      "source": [
        "for epoch in range(epochs):\n",
        "\n",
        "    y_pred = w * x + b\n",
        "\n",
        "\n",
        "    loss = np.mean((y - y_pred)**2)\n",
        "\n",
        "\n",
        "    dw = -2 * np.mean(x * (y - y_pred))\n",
        "    db = -2 * np.mean(y - y_pred)\n",
        "    if epoch % 100 == 0:\n",
        "        print(f\"Epoch {epoch}, Loss: {loss:.4f}, Weight: {w:.4f}, Bias: {b:.4f}\")\n",
        "\n",
        "\n",
        "print(f\"\\nFinal Weight: {w:.4f}, Final Bias: {b:.4f}\")\n",
        "w -= learning_rate * dw\n",
        "b -= learning_rate * db"
      ],
      "metadata": {
        "colab": {
          "base_uri": "https://localhost:8080/"
        },
        "id": "7mIzlAKvUPqr",
        "outputId": "e7d067d5-2f0b-482b-ac48-f78cd8696a56"
      },
      "execution_count": 3,
      "outputs": [
        {
          "output_type": "stream",
          "name": "stdout",
          "text": [
            "Epoch 0, Loss: 44.0000, Weight: 0.0000, Bias: 0.0000\n",
            "Epoch 100, Loss: 44.0000, Weight: 0.0000, Bias: 0.0000\n",
            "Epoch 200, Loss: 44.0000, Weight: 0.0000, Bias: 0.0000\n",
            "Epoch 300, Loss: 44.0000, Weight: 0.0000, Bias: 0.0000\n",
            "Epoch 400, Loss: 44.0000, Weight: 0.0000, Bias: 0.0000\n",
            "Epoch 500, Loss: 44.0000, Weight: 0.0000, Bias: 0.0000\n",
            "Epoch 600, Loss: 44.0000, Weight: 0.0000, Bias: 0.0000\n",
            "Epoch 700, Loss: 44.0000, Weight: 0.0000, Bias: 0.0000\n",
            "Epoch 800, Loss: 44.0000, Weight: 0.0000, Bias: 0.0000\n",
            "Epoch 900, Loss: 44.0000, Weight: 0.0000, Bias: 0.0000\n",
            "\n",
            "Final Weight: 0.0000, Final Bias: 0.0000\n"
          ]
        }
      ]
    },
    {
      "cell_type": "code",
      "source": [],
      "metadata": {
        "id": "9PNgQ_4LUSbs"
      },
      "execution_count": null,
      "outputs": []
    }
  ]
}